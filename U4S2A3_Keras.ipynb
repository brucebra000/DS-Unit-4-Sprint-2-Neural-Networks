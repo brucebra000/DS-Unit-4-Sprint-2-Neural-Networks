{
  "nbformat": 4,
  "nbformat_minor": 0,
  "metadata": {
    "colab": {
      "name": "U4S2A3 Keras.ipynb",
      "provenance": [],
      "authorship_tag": "ABX9TyNfb55ixwHqRTfkzSl/+vfp",
      "include_colab_link": true
    },
    "kernelspec": {
      "name": "python3",
      "display_name": "Python 3"
    }
  },
  "cells": [
    {
      "cell_type": "markdown",
      "metadata": {
        "id": "view-in-github",
        "colab_type": "text"
      },
      "source": [
        "<a href=\"https://colab.research.google.com/github/brucebra000/DS-Unit-4-Sprint-2-Neural-Networks/blob/master/U4S2A3_Keras.ipynb\" target=\"_parent\"><img src=\"https://colab.research.google.com/assets/colab-badge.svg\" alt=\"Open In Colab\"/></a>"
      ]
    },
    {
      "cell_type": "markdown",
      "metadata": {
        "id": "0Q07LnHZcKcl",
        "colab_type": "text"
      },
      "source": [
        "<img align=\"left\" src=\"https://lever-client-logos.s3.amazonaws.com/864372b1-534c-480e-acd5-9711f850815c-1524247202159.png\" width=200>\n",
        "<br></br>\n",
        "\n",
        "# Neural Network Framework (Keras)\n",
        "\n",
        "## *Data Science Unit 4 Sprint 2 Assignment 3*\n",
        "\n",
        "## Use the Keras Library to build a Multi-Layer Perceptron Model on the Boston Housing dataset\n",
        "\n",
        "- The Boston Housing dataset comes with the Keras library so use Keras to import it into your notebook. \n",
        "- Normalize the data (all features should have roughly the same scale)\n",
        "- Import the type of model and layers that you will need from Keras.\n",
        "- Instantiate a model object and use `model.add()` to add layers to your model\n",
        "- Since this is a regression model you will have a single output node in the final layer.\n",
        "- Use activation functions that are appropriate for this task\n",
        "- Compile your model\n",
        "- Fit your model and report its accuracy in terms of Mean Squared Error\n",
        "- Use the history object that is returned from model.fit to make graphs of the model's loss or train/validation accuracies by epoch. \n",
        "- Run this same data through a linear regression model. Which achieves higher accuracy?\n",
        "- Do a little bit of feature engineering and see how that affects your neural network model. (you will need to change your model to accept more inputs)\n",
        "- After feature engineering, which model sees a greater accuracy boost due to the new features?"
      ]
    },
    {
      "cell_type": "code",
      "metadata": {
        "id": "L5nRKNZZb-to",
        "colab_type": "code",
        "colab": {}
      },
      "source": [
        "##### Your Code Here #####\n",
        "\n",
        "from tensorflow.keras.datasets import boston_housing\n",
        "from tensorflow import keras\n",
        "from tensorflow.keras.models import Sequential\n",
        "from tensorflow.keras.layers import Dense, Dropout, Flatten, BatchNormalization\n",
        "import pandas as pd\n",
        "import numpy as np\n",
        "import tensorflow as tf\n",
        "import matplotlib.pyplot as plt"
      ],
      "execution_count": 0,
      "outputs": []
    },
    {
      "cell_type": "code",
      "metadata": {
        "id": "bZY44m8HdbIT",
        "colab_type": "code",
        "colab": {}
      },
      "source": [
        "# Loading data\n",
        "(x_train, y_train), (x_test, y_test) = boston_housing.load_data()"
      ],
      "execution_count": 0,
      "outputs": []
    },
    {
      "cell_type": "code",
      "metadata": {
        "id": "0B6V2kqbn67k",
        "colab_type": "code",
        "outputId": "13b8bfbe-397f-4fbd-8355-fff1d127f2f2",
        "colab": {
          "base_uri": "https://localhost:8080/",
          "height": 36
        }
      },
      "source": [
        "x_train[0].shape"
      ],
      "execution_count": 0,
      "outputs": [
        {
          "output_type": "execute_result",
          "data": {
            "text/plain": [
              "(13,)"
            ]
          },
          "metadata": {
            "tags": []
          },
          "execution_count": 27
        }
      ]
    },
    {
      "cell_type": "code",
      "metadata": {
        "id": "WNsRa5Bxfe3r",
        "colab_type": "code",
        "outputId": "e412d85b-99fa-461c-8191-b1ed7cb3d6f4",
        "colab": {
          "base_uri": "https://localhost:8080/",
          "height": 36
        }
      },
      "source": [
        "x_train.shape"
      ],
      "execution_count": 0,
      "outputs": [
        {
          "output_type": "execute_result",
          "data": {
            "text/plain": [
              "(404, 13)"
            ]
          },
          "metadata": {
            "tags": []
          },
          "execution_count": 17
        }
      ]
    },
    {
      "cell_type": "code",
      "metadata": {
        "id": "g9ajvn71flHn",
        "colab_type": "code",
        "outputId": "28f3cdd3-0d9b-467f-df44-4fa840866c14",
        "colab": {
          "base_uri": "https://localhost:8080/",
          "height": 36
        }
      },
      "source": [
        "y_train[0]"
      ],
      "execution_count": 0,
      "outputs": [
        {
          "output_type": "execute_result",
          "data": {
            "text/plain": [
              "15.2"
            ]
          },
          "metadata": {
            "tags": []
          },
          "execution_count": 19
        }
      ]
    },
    {
      "cell_type": "code",
      "metadata": {
        "id": "-2zA7QUGiKmd",
        "colab_type": "code",
        "outputId": "f4f0f0bd-a472-40a2-d0c0-691d673ac374",
        "colab": {
          "base_uri": "https://localhost:8080/",
          "height": 36
        }
      },
      "source": [
        "y_train.shape"
      ],
      "execution_count": 0,
      "outputs": [
        {
          "output_type": "execute_result",
          "data": {
            "text/plain": [
              "(404,)"
            ]
          },
          "metadata": {
            "tags": []
          },
          "execution_count": 21
        }
      ]
    },
    {
      "cell_type": "code",
      "metadata": {
        "id": "AfcrFyEUotVz",
        "colab_type": "code",
        "colab": {}
      },
      "source": [
        "# Model\n",
        "np.random.seed(42)\n",
        "\n",
        "model = Sequential()\n",
        "model.add(BatchNormalization(input_shape = (13, ), axis = 1))\n",
        "model.add(Flatten())\n",
        "model.add(Dense(10, activation = 'softmax'))"
      ],
      "execution_count": 0,
      "outputs": []
    },
    {
      "cell_type": "code",
      "metadata": {
        "id": "FMaY7k16yuLC",
        "colab_type": "code",
        "outputId": "3b924d2b-3d9f-4d23-cef5-4ca79cb4e85a",
        "colab": {
          "base_uri": "https://localhost:8080/",
          "height": 279
        }
      },
      "source": [
        "# Compile\n",
        "model.compile(loss = 'mean_squared_error', optimizer = 'adam', metrics = ['accuracy'])\n",
        "model.summary()"
      ],
      "execution_count": 0,
      "outputs": [
        {
          "output_type": "stream",
          "text": [
            "Model: \"sequential_4\"\n",
            "_________________________________________________________________\n",
            "Layer (type)                 Output Shape              Param #   \n",
            "=================================================================\n",
            "batch_normalization_4 (Batch (None, 13)                52        \n",
            "_________________________________________________________________\n",
            "flatten_3 (Flatten)          (None, 13)                0         \n",
            "_________________________________________________________________\n",
            "dense_3 (Dense)              (None, 10)                140       \n",
            "=================================================================\n",
            "Total params: 192\n",
            "Trainable params: 166\n",
            "Non-trainable params: 26\n",
            "_________________________________________________________________\n"
          ],
          "name": "stdout"
        }
      ]
    },
    {
      "cell_type": "code",
      "metadata": {
        "id": "mkrdqp3z3d41",
        "colab_type": "code",
        "outputId": "c1f2e12e-7a26-4cd2-ae9e-d5eb25269df8",
        "colab": {
          "base_uri": "https://localhost:8080/",
          "height": 410
        }
      },
      "source": [
        "# Fit Model\n",
        "model.fit(x_train, y_train,\n",
        "          epochs = 10)"
      ],
      "execution_count": 0,
      "outputs": [
        {
          "output_type": "stream",
          "text": [
            "Epoch 1/10\n",
            "13/13 [==============================] - 0s 1ms/step - loss: 582.2751 - accuracy: 0.0000e+00\n",
            "Epoch 2/10\n",
            "13/13 [==============================] - 0s 2ms/step - loss: 580.3027 - accuracy: 0.0000e+00\n",
            "Epoch 3/10\n",
            "13/13 [==============================] - 0s 1ms/step - loss: 579.2120 - accuracy: 0.0000e+00\n",
            "Epoch 4/10\n",
            "13/13 [==============================] - 0s 1ms/step - loss: 583.0693 - accuracy: 0.0000e+00\n",
            "Epoch 5/10\n",
            "13/13 [==============================] - 0s 2ms/step - loss: 582.9363 - accuracy: 0.0000e+00\n",
            "Epoch 6/10\n",
            "13/13 [==============================] - 0s 1ms/step - loss: 580.5505 - accuracy: 0.0000e+00\n",
            "Epoch 7/10\n",
            "13/13 [==============================] - 0s 1ms/step - loss: 579.7735 - accuracy: 0.0000e+00\n",
            "Epoch 8/10\n",
            "13/13 [==============================] - 0s 2ms/step - loss: 579.4096 - accuracy: 0.0000e+00\n",
            "Epoch 9/10\n",
            "13/13 [==============================] - 0s 1ms/step - loss: 577.9596 - accuracy: 0.0000e+00\n",
            "Epoch 10/10\n",
            "13/13 [==============================] - 0s 1ms/step - loss: 581.1390 - accuracy: 0.0000e+00\n"
          ],
          "name": "stdout"
        },
        {
          "output_type": "execute_result",
          "data": {
            "text/plain": [
              "<tensorflow.python.keras.callbacks.History at 0x7f120cc68a90>"
            ]
          },
          "metadata": {
            "tags": []
          },
          "execution_count": 46
        }
      ]
    },
    {
      "cell_type": "code",
      "metadata": {
        "id": "BCFmj56D5L1f",
        "colab_type": "code",
        "outputId": "cdc90944-e8f9-4b63-db6c-89438f6cf4d4",
        "colab": {
          "base_uri": "https://localhost:8080/",
          "height": 223
        }
      },
      "source": [
        "model.fit(x_train, y_train,\n",
        "          epochs = 5,\n",
        "          validation_data = (x_test, y_test))"
      ],
      "execution_count": 0,
      "outputs": [
        {
          "output_type": "stream",
          "text": [
            "Epoch 1/5\n",
            "13/13 [==============================] - 0s 15ms/step - loss: 587.6705 - accuracy: 0.0000e+00 - val_loss: 695.5653 - val_accuracy: 0.0000e+00\n",
            "Epoch 2/5\n",
            "13/13 [==============================] - 0s 4ms/step - loss: 584.9488 - accuracy: 0.0000e+00 - val_loss: 695.5629 - val_accuracy: 0.0000e+00\n",
            "Epoch 3/5\n",
            "13/13 [==============================] - 0s 4ms/step - loss: 579.4203 - accuracy: 0.0000e+00 - val_loss: 695.5611 - val_accuracy: 0.0000e+00\n",
            "Epoch 4/5\n",
            "13/13 [==============================] - 0s 4ms/step - loss: 578.6228 - accuracy: 0.0000e+00 - val_loss: 695.5598 - val_accuracy: 0.0000e+00\n",
            "Epoch 5/5\n",
            "13/13 [==============================] - 0s 4ms/step - loss: 579.9999 - accuracy: 0.0000e+00 - val_loss: 695.5587 - val_accuracy: 0.0000e+00\n"
          ],
          "name": "stdout"
        },
        {
          "output_type": "execute_result",
          "data": {
            "text/plain": [
              "<tensorflow.python.keras.callbacks.History at 0x7f120cb499e8>"
            ]
          },
          "metadata": {
            "tags": []
          },
          "execution_count": 48
        }
      ]
    },
    {
      "cell_type": "code",
      "metadata": {
        "id": "p5Owa3o444tV",
        "colab_type": "code",
        "colab": {}
      },
      "source": [
        "# Graphs"
      ],
      "execution_count": 0,
      "outputs": []
    },
    {
      "cell_type": "markdown",
      "metadata": {
        "id": "BQ6NYjF3cSE8",
        "colab_type": "text"
      },
      "source": [
        "## Use the Keras Library to build an image recognition network using the Fashion-MNIST dataset (also comes with keras)\n",
        "\n",
        "- Load and preprocess the image data similar to how we preprocessed the MNIST data in class.\n",
        "- Make sure to one-hot encode your category labels\n",
        "- The number of nodes in your output layer should equal the number of classes you want to predict for Fashion-MNIST.\n",
        "- Try different hyperparameters. What is the highest accuracy that you are able to achieve.\n",
        "- Use the history object that is returned from model.fit to make graphs of the model's loss or train/validation accuracies by epoch. \n",
        "- Remember that neural networks fall prey to randomness so you may need to run your model multiple times (or use Cross Validation) in order to tell if a change to a hyperparameter is truly producing better results."
      ]
    },
    {
      "cell_type": "code",
      "metadata": {
        "id": "Nq4fbgMtcVXi",
        "colab_type": "code",
        "colab": {}
      },
      "source": [
        "##### Your code here #####"
      ],
      "execution_count": 0,
      "outputs": []
    },
    {
      "cell_type": "markdown",
      "metadata": {
        "id": "k5SMhnnEca1x",
        "colab_type": "text"
      },
      "source": [
        "## Stretch Goals:\n",
        "\n",
        "- Use Hyperparameter Tuning to make the accuracy of your models as high as possible. (error as low as possible)\n",
        "- Use Cross Validation techniques to get more consistent results with your model.\n",
        "- Use GridSearchCV to try different combinations of hyperparameters. \n",
        "- Start looking into other types of Keras layers for CNNs and RNNs maybe try and build a CNN model for fashion-MNIST to see how the results compare."
      ]
    },
    {
      "cell_type": "code",
      "metadata": {
        "id": "Iu4PdskWcc8u",
        "colab_type": "code",
        "colab": {}
      },
      "source": [
        ""
      ],
      "execution_count": 0,
      "outputs": []
    }
  ]
}